{
 "cells": [
  {
   "cell_type": "markdown",
   "metadata": {},
   "source": [
    "# Week 1\n",
    "\n",
    "## Main Headers:\n",
    "1. Message(s)\n",
    "2. Emotional Appeal <= Purpose\n",
    "3. Symbolism / Associations <= Audience\n",
    "4. Needs + Desire <= Context"
   ]
  },
  {
   "cell_type": "markdown",
   "metadata": {},
   "source": [
    "# Week 2\n",
    "\n",
    "## Things to take note:\n",
    "1) Bare in mind of bgm in videos\n",
    "2) Take note of the \"what if\"\n",
    "3) Think of the why nots?"
   ]
  },
  {
   "cell_type": "markdown",
   "metadata": {},
   "source": [
    "# Week 3\n",
    "\n",
    "## Narrative chosen: https://www.youtube.com/watch?v=xbqA6o8_WC0&ab_channel=SAIHNorway \n"
   ]
  },
  {
   "cell_type": "markdown",
   "metadata": {},
   "source": [
    "# Week 4\n",
    "\n",
    "## Lesson Objectives\n",
    "1. Purpose\n",
    "2. Audience\n",
    "3. Context\n",
    "\n",
    "\n",
    "## Ah Ma's Christmas\n",
    "### Purpose:\n",
    "1. To show us that Singtel is a People company selling phones not just a Phone sellingcompany\n",
    "### Audience:\n",
    "- Singaporean families with elderlies [Inclusive of people who don't spend enough time with elderlies at home]\n",
    "### Context:\n",
    "1. Christmas Season\n",
    "2. The rise of Social Media use\n",
    "\n",
    "# Notes:\n",
    "Purpose is a Meta message => Why does the company wants to send out this message?"
   ]
  }
 ],
 "metadata": {
  "kernelspec": {
   "display_name": "Python 3",
   "language": "python",
   "name": "python3"
  },
  "language_info": {
   "codemirror_mode": {
    "name": "ipython",
    "version": 3
   },
   "file_extension": ".py",
   "mimetype": "text/x-python",
   "name": "python",
   "nbconvert_exporter": "python",
   "pygments_lexer": "ipython3",
   "version": "3.8.8"
  }
 },
 "nbformat": 4,
 "nbformat_minor": 5
}
